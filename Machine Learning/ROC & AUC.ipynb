{
 "cells": [
  {
   "cell_type": "markdown",
   "id": "7eb77a92",
   "metadata": {},
   "source": [
    "## ROC 곡선과 AUC 스코어\n",
    "* ROC 곡선(Receiver Operating Characteristic Curve)은 이진 분류 모델의 성능을 평가하는데 널리 사용되는 그래프입니다. ROC 곡선은 분류 모델의 재현율(True Positive Rate)과 위양성 비율(False Positive Rate) 사이의 관계를 시각화한 것입니다. 여기서, 재현율은 모델이 실제 양성 클래스를 얼마나 잘 감지하는지를 나타내고, 위양성 비율은 모델이 실제 음성 클래스를 양성으로 잘못 분류하는 비율입니다.\n",
    "\n",
    "* ROC 곡선의 x축은 위양성 비율(FPR)이고 y축은 재현율(TPR)입니다. 분류 모델이 얼마나 좋은 성능을 보이는지는 ROC 곡선의 면적인 AUC(Area Under the Curve)로 측정됩니다. AUC가 1에 가까울수록 모델이 좋은 성능을 보이는 것이며, 0.5에 가까울수록 랜덤한 예측과 같은 성능을 보입니다.\n",
    "\n",
    "* TPR은 실제 양성 중에서 모델이 올바르게 양성으로 분류한 샘플의 비율을 나타내며, FPR은 실제 음성 중에서 모델이 잘못 양성으로 분류한 샘플의 비율을 나타냅니다. ROC 곡선은 FPR을 x축으로, TPR을 y축으로 나타내며, 이 곡선의 아래 면적을 계산한 값을 AUC(Area Under the Curve)라고 부릅니다. AUC 값은 분류 모델의 전반적인 성능을 나타내며, 1에 가까울수록 좋은 성능을 가진 모델입니다. AUC 값이 0.5에 가까우면 분류 모델의 성능이 무작위로 예측하는 것과 비슷하다는 것을 의미합니다.\n",
    "\n",
    "* FP-Rate : FP / (FP + TN), 1 - Specificity : 실제가 False 인데 예측이 True로 된 비율 (제 1종 오류 비율)\n",
    "* Recall, Sensitivity : 실제 값이 True인 것에 대해 예측 값이 True로 된 비율, TP / (TP + FN)"
   ]
  },
  {
   "cell_type": "code",
   "execution_count": 1,
   "id": "d3e1666b",
   "metadata": {
    "ExecuteTime": {
     "end_time": "2023-05-11T05:19:01.228454Z",
     "start_time": "2023-05-11T05:19:00.503248Z"
    }
   },
   "outputs": [
    {
     "ename": "NameError",
     "evalue": "name 'roc_curve' is not defined",
     "output_type": "error",
     "traceback": [
      "\u001b[0;31m---------------------------------------------------------------------------\u001b[0m",
      "\u001b[0;31mNameError\u001b[0m                                 Traceback (most recent call last)",
      "Cell \u001b[0;32mIn[1], line 18\u001b[0m\n\u001b[1;32m     15\u001b[0m y_score \u001b[39m=\u001b[39m clf\u001b[39m.\u001b[39mpredict_proba(X_test)[:, \u001b[39m1\u001b[39m]\n\u001b[1;32m     17\u001b[0m \u001b[39m# ROC 곡선 그리기\u001b[39;00m\n\u001b[0;32m---> 18\u001b[0m fpr, tpr, thresholds \u001b[39m=\u001b[39m roc_curve(y_test, y_score)\n\u001b[1;32m     19\u001b[0m roc_auc \u001b[39m=\u001b[39m auc(fpr, tpr)\n\u001b[1;32m     21\u001b[0m plt\u001b[39m.\u001b[39mplot(fpr, tpr, color\u001b[39m=\u001b[39m\u001b[39m'\u001b[39m\u001b[39mdarkorange\u001b[39m\u001b[39m'\u001b[39m, lw\u001b[39m=\u001b[39m\u001b[39m2\u001b[39m, label\u001b[39m=\u001b[39m\u001b[39m'\u001b[39m\u001b[39mROC curve (AUC = \u001b[39m\u001b[39m%0.2f\u001b[39;00m\u001b[39m)\u001b[39m\u001b[39m'\u001b[39m \u001b[39m%\u001b[39m roc_auc)\n",
      "\u001b[0;31mNameError\u001b[0m: name 'roc_curve' is not defined"
     ]
    }
   ],
   "source": [
    "from sklearn.datasets import make_classification\n",
    "from sklearn.model_selection import train_test_split\n",
    "from sklearn.linear_model import LogisticRegression\n",
    "import matplotlib.pyplot as plt\n",
    "\n",
    "# 데이터 생성\n",
    "X, y = make_classification(n_samples=1000, n_classes=2, random_state=42)\n",
    "\n",
    "# 훈련/테스트 데이터셋 분리\n",
    "X_train, X_test, y_train, y_test = train_test_split(X, y, test_size=0.2, random_state=42)\n",
    "\n",
    "# 분류 모델 학습 및 예측\n",
    "clf = LogisticRegression()\n",
    "clf.fit(X_train, y_train)\n",
    "y_score = clf.predict_proba(X_test)[:, 1]\n",
    "\n",
    "# ROC 곡선 그리기\n",
    "fpr, tpr, thresholds = roc_curve(y_test, y_score)\n",
    "roc_auc = auc(fpr, tpr)\n",
    "\n",
    "plt.plot(fpr, tpr, color='darkorange', lw=2, label='ROC curve (AUC = %0.2f)' % roc_auc)\n",
    "plt.plot([0, 1], [0, 1], color='navy', lw=2, linestyle='--')\n",
    "plt.xlabel('False Positive Rate')\n",
    "plt.ylabel('True Positive Rate')\n",
    "plt.title('Receiver Operating Characteristic (ROC) Curve')\n",
    "plt.legend(loc=\"lower right\")\n",
    "plt.show()\n"
   ]
  },
  {
   "cell_type": "code",
   "execution_count": null,
   "id": "798f77b4",
   "metadata": {},
   "outputs": [],
   "source": []
  }
 ],
 "metadata": {
  "kernelspec": {
   "display_name": "Python 3 (ipykernel)",
   "language": "python",
   "name": "python3"
  },
  "language_info": {
   "codemirror_mode": {
    "name": "ipython",
    "version": 3
   },
   "file_extension": ".py",
   "mimetype": "text/x-python",
   "name": "python",
   "nbconvert_exporter": "python",
   "pygments_lexer": "ipython3",
   "version": "3.9.6"
  },
  "toc": {
   "base_numbering": 1,
   "nav_menu": {},
   "number_sections": true,
   "sideBar": true,
   "skip_h1_title": false,
   "title_cell": "Table of Contents",
   "title_sidebar": "Contents",
   "toc_cell": false,
   "toc_position": {},
   "toc_section_display": true,
   "toc_window_display": false
  },
  "varInspector": {
   "cols": {
    "lenName": 16,
    "lenType": 16,
    "lenVar": 40
   },
   "kernels_config": {
    "python": {
     "delete_cmd_postfix": "",
     "delete_cmd_prefix": "del ",
     "library": "var_list.py",
     "varRefreshCmd": "print(var_dic_list())"
    },
    "r": {
     "delete_cmd_postfix": ") ",
     "delete_cmd_prefix": "rm(",
     "library": "var_list.r",
     "varRefreshCmd": "cat(var_dic_list()) "
    }
   },
   "types_to_exclude": [
    "module",
    "function",
    "builtin_function_or_method",
    "instance",
    "_Feature"
   ],
   "window_display": false
  }
 },
 "nbformat": 4,
 "nbformat_minor": 5
}
