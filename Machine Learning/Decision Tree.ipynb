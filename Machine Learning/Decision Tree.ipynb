{
 "cells": [
  {
   "cell_type": "markdown",
   "id": "bb42946a",
   "metadata": {},
   "source": [
    "## Decision Tree\n",
    "### https://modu.notion.site/Decision-Tree-c4dac5b9ee75448ba392b688adde57d1"
   ]
  },
  {
   "cell_type": "markdown",
   "id": "2b5ad99d",
   "metadata": {},
   "source": [
    "#### 장점\n",
    "\n",
    "- 데이터의 전처리 (정규화, 결측치, 이상치 등) 를 하지 않아도 된다.\n",
    "- 수치형과 범주형 변수를 한꺼번에 다룰 수 있다.\n",
    "\n",
    "#### 한계\n",
    "\n",
    "- 만약 샘플의 사이즈가 크면 효율성 및 가독성이 떨어진다.\n",
    "- **과적합으로 알고리즘 성능이 떨어질 수 있다.**\n",
    "    - 이를 극복하기 위해서 트리의 크기를 사전에 제한하는 튜닝이 필요하다.\n",
    "- **한 번에 하나의 변수만을 고려하므로 변수간 상호작용을 파악하기가 어렵다.**\n",
    "- 결정트리는 Hill Climbing 방식 및 Greedy 방식을 사용하고 있다.\n",
    "    - 일반적인 Greedy 방식의 알고리즘이 그렇듯이 이 방식은 최적의 해를 보장하지는 못한다.\n",
    "- **약간의 차이에 따라 (레코드의 개수의 약간의 차이) 트리의 모양이 많이 달라질 수 있다.**\n",
    "    - 두 변수가 비슷한 수준의 정보력을 갖는다고 했을 때, 약간의 차이에 의해 다른 변수가 선택되면 이 후의 트리 구성이 크게 달라질 수 있다.\n",
    "- **이같은 문제를 극복하기 위해 등장한 모델이 바로 랜덤포레스트이다.**\n",
    "    - 같은 데이터에 대해 의사결정나무를 여러 개 만들어 그 결과를 종합해 예측 성능을 높이는 기법이다."
   ]
  },
  {
   "cell_type": "code",
   "execution_count": null,
   "id": "adaf6414",
   "metadata": {
    "ExecuteTime": {
     "end_time": "2023-05-11T08:50:47.377838Z",
     "start_time": "2023-05-11T08:50:47.377831Z"
    }
   },
   "outputs": [],
   "source": [
    "from sklearn.tree import DecisionTreeClassifier\n",
    "from sklearn.datasets import load_iris\n",
    "from sklearn.model_selection import train_test_split\n",
    "import warnings\n",
    "warnings.filterwarnings('ignore')\n",
    "\n",
    "# DecicionTreeClassifier 생성\n",
    "dt_clf = DecisionTreeClassifier(random_state=156)\n",
    "\n",
    "# 붓꽃 데이터를 로딩하고, 학습과 테스트 데이터 세트로 분리\n",
    "iris_data = load_iris()\n",
    "X_train, X_test, y_train, y_test = train_test_split(iris_data.data, iris_data.target, test_size=0.2, random_state=11)\n",
    "\n",
    "# DecisionTreeClassifier 학습\n",
    "dt_clf.fit(X_train, y_train)"
   ]
  },
  {
   "cell_type": "code",
   "execution_count": null,
   "id": "228395e2",
   "metadata": {
    "ExecuteTime": {
     "end_time": "2023-05-11T08:50:47.378399Z",
     "start_time": "2023-05-11T08:50:47.378394Z"
    }
   },
   "outputs": [],
   "source": [
    "from sklearn.tree import export_graphviz\n",
    "\n",
    "# export_graphviz( )의 호출 결과로 out_file로 지정된 tree.dot 파일을 생성함\n",
    "export_graphviz(dt_clf, out_file=\"tree.dot\", class_names = iris_data.target_names, \n",
    "                           feature_names = iris_data.feature_names, impurity=True, filled=True)"
   ]
  },
  {
   "cell_type": "code",
   "execution_count": null,
   "id": "3b9b05d8",
   "metadata": {
    "ExecuteTime": {
     "end_time": "2023-05-11T08:50:47.379028Z",
     "start_time": "2023-05-11T08:50:47.379022Z"
    },
    "scrolled": true
   },
   "outputs": [],
   "source": [
    "print('===============max_depth의 제약이 없는 경우의 Decision Tree 시각화==================')\n",
    "import graphviz\n",
    "# 위에서 생성된 tree.dot 파일을 Graphiviz 가 읽어서 시각화\n",
    "with open(\"tree.dot\") as f:\n",
    "    dot_graph = f.read()\n",
    "graphviz.Source(dot_graph)"
   ]
  },
  {
   "cell_type": "markdown",
   "id": "3fba250c",
   "metadata": {},
   "source": [
    "* petal length(cm) <= 2.45 와 같이 조건이 있는 것은 자식 노드를 만들기 위한 규칙 조건으로 이런 것이 없는 것은 리프노드입니다.\n",
    "* gini는 다음의 value = [ ] 로 주어진 데이터 분포에서의 지니계수\n",
    "* samples : 현 규칙에 해당하는 데이터 건수\n",
    "* value = [ ] 클래스 값 기반의 데이터 건수 ( 이번 예제의 경우 0: Setosa, 1 : Veericolor, 2: Virginia 를 나타냄 )"
   ]
  },
  {
   "cell_type": "code",
   "execution_count": null,
   "id": "e1346f96",
   "metadata": {
    "ExecuteTime": {
     "end_time": "2023-05-11T08:50:47.379524Z",
     "start_time": "2023-05-11T08:50:47.379517Z"
    }
   },
   "outputs": [],
   "source": [
    "dt_clf_1 = DecisionTreeClassifier(random_state=0 , max_depth=5)\n",
    "\n",
    "dt_clf.fit(X_train, y_train)\n",
    "pred = dt_clf.predict(X_test)"
   ]
  },
  {
   "cell_type": "code",
   "execution_count": null,
   "id": "8cab4235",
   "metadata": {},
   "outputs": [],
   "source": []
  },
  {
   "cell_type": "code",
   "execution_count": null,
   "id": "260aa627",
   "metadata": {},
   "outputs": [],
   "source": []
  }
 ],
 "metadata": {
  "kernelspec": {
   "display_name": "Python 3 (ipykernel)",
   "language": "python",
   "name": "python3"
  },
  "language_info": {
   "codemirror_mode": {
    "name": "ipython",
    "version": 3
   },
   "file_extension": ".py",
   "mimetype": "text/x-python",
   "name": "python",
   "nbconvert_exporter": "python",
   "pygments_lexer": "ipython3",
   "version": "3.9.6"
  },
  "toc": {
   "base_numbering": 1,
   "nav_menu": {},
   "number_sections": true,
   "sideBar": true,
   "skip_h1_title": false,
   "title_cell": "Table of Contents",
   "title_sidebar": "Contents",
   "toc_cell": false,
   "toc_position": {},
   "toc_section_display": true,
   "toc_window_display": false
  },
  "varInspector": {
   "cols": {
    "lenName": 16,
    "lenType": 16,
    "lenVar": 40
   },
   "kernels_config": {
    "python": {
     "delete_cmd_postfix": "",
     "delete_cmd_prefix": "del ",
     "library": "var_list.py",
     "varRefreshCmd": "print(var_dic_list())"
    },
    "r": {
     "delete_cmd_postfix": ") ",
     "delete_cmd_prefix": "rm(",
     "library": "var_list.r",
     "varRefreshCmd": "cat(var_dic_list()) "
    }
   },
   "types_to_exclude": [
    "module",
    "function",
    "builtin_function_or_method",
    "instance",
    "_Feature"
   ],
   "window_display": false
  }
 },
 "nbformat": 4,
 "nbformat_minor": 5
}
